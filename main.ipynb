{
 "cells": [
  {
   "metadata": {},
   "cell_type": "markdown",
   "source": "Download Repo",
   "id": "a9f84b5c17493664"
  },
  {
   "metadata": {
    "ExecuteTime": {
     "end_time": "2024-11-01T20:13:52.005717Z",
     "start_time": "2024-11-01T20:13:51.985728Z"
    }
   },
   "cell_type": "code",
   "source": [
    "from get_repo import clone_repo\n",
    "url = \"https://github.com/ataj09/ClearSpeech.git\" #define repo url\n",
    "repo_dir = \"repo\" #define directory for cloning\n",
    "clone_repo(url, repo_dir)\n"
   ],
   "id": "ce6920a71cad110d",
   "outputs": [],
   "execution_count": 2
  },
  {
   "metadata": {},
   "cell_type": "markdown",
   "source": "Split code into prefix, suffix and middle and save them into code_completion_dataset.json\n",
   "id": "9ed2973ef0e29629"
  },
  {
   "metadata": {
    "ExecuteTime": {
     "end_time": "2024-11-01T20:56:25.564359Z",
     "start_time": "2024-11-01T20:56:25.548110Z"
    }
   },
   "cell_type": "code",
   "source": [
    "from split_code import generate_dataset\n",
    "import json\n",
    "\n",
    "dataset = generate_dataset(repo_dir, num_examples=50)\n",
    "with open('code_completion_dataset.json', 'w') as f:\n",
    "    json.dump(dataset, f, indent=4)"
   ],
   "id": "47865c9c3f187aa0",
   "outputs": [],
   "execution_count": 6
  },
  {
   "metadata": {},
   "cell_type": "markdown",
   "source": "Use Tiny starcoder to generate predictions and save them to code_completion.json",
   "id": "49f1c80374eafe45"
  },
  {
   "metadata": {
    "ExecuteTime": {
     "end_time": "2024-11-01T21:00:20.600219Z",
     "start_time": "2024-11-01T20:56:51.478857Z"
    }
   },
   "cell_type": "code",
   "source": [
    "# Load the code completion model\n",
    "from transformers import AutoModelForCausalLM, AutoTokenizer\n",
    "import torch\n",
    "import json\n",
    "from transformer_stuff import complete_code\n",
    "\n",
    "model_name = \"bigcode/tiny_starcoder_py\"\n",
    "device = \"cpu\"\n",
    "tokenizer = AutoTokenizer.from_pretrained(model_name)\n",
    "model = AutoModelForCausalLM.from_pretrained(model_name).to(device)\n",
    "\n",
    "# Load dataset\n",
    "with open('code_completion_dataset.json', 'r') as f:\n",
    "    dataset = json.load(f)\n",
    "\n",
    "# Run the model on all examples\n",
    "completions = []\n",
    "for example in dataset:\n",
    "    completion = complete_code(example['prefix'], example['suffix'], tokenizer,device,model)\n",
    "    completions.append({\n",
    "        'prefix': example['prefix'],\n",
    "        'middle_actual': example['middle'],\n",
    "        'middle_predicted': completion,\n",
    "        'suffix': example['suffix'],\n",
    "        'label': \"\"\n",
    "    })\n",
    "\n",
    "# Save the completions for manual review\n",
    "with open('code_completions.json', 'w') as f:\n",
    "    json.dump(completions, f, indent=4)\n",
    "\n",
    "print(\"Code completions saved to code_completions.json\")\n"
   ],
   "id": "bfb30efcf85aae44",
   "outputs": [
    {
     "name": "stdout",
     "output_type": "stream",
     "text": [
      "Code completions saved to code_completions.json\n"
     ]
    }
   ],
   "execution_count": 7
  },
  {
   "metadata": {},
   "cell_type": "markdown",
   "source": "Manualy review and label the completions, calculate exact match chrf, Levenshtein distance",
   "id": "396ab129020bcf94"
  },
  {
   "metadata": {
    "ExecuteTime": {
     "end_time": "2024-11-01T21:35:41.021732Z",
     "start_time": "2024-11-01T21:35:35.376129Z"
    }
   },
   "cell_type": "code",
   "source": [
    "import json\n",
    "import sacrebleu\n",
    "import Levenshtein\n",
    "from nltk.translate.bleu_score import sentence_bleu, SmoothingFunction\n",
    "\n",
    "\n",
    "with open('code_completions.json', 'r') as f:\n",
    "    completions = json.load(f)\n",
    "\n",
    "def exact_match(pred, actual):\n",
    "    return int(pred.strip() == actual.strip())\n",
    "\n",
    "def levenshtein_distance(pred, actual):\n",
    "    return Levenshtein.distance(pred.strip(), actual.strip())\n",
    "\n",
    "def calculate_bleu_score(reference, hypothesis):\n",
    "    reference_tokens = reference.strip().split()\n",
    "    hypothesis_tokens = hypothesis.strip().split()\n",
    "    bleu_score = sentence_bleu([reference_tokens], hypothesis_tokens, smoothing_function=SmoothingFunction().method1)\n",
    "    return bleu_score\n",
    "\n",
    "exact_matches = []\n",
    "levenshtein_distances = []\n",
    "chrf_scores = []\n",
    "bleu_scores = []\n",
    "\n",
    "\n",
    "for completion in completions:\n",
    "    pred = completion['middle_predicted']\n",
    "    actual = completion['middle_actual']\n",
    "    exact_matches.append(exact_match(pred, actual))\n",
    "    levenshtein_distances.append(levenshtein_distance(pred, actual))\n",
    "    chrf = sacrebleu.sentence_chrf(pred.strip(), [actual.strip()])\n",
    "    chrf_scores.append(chrf.score)\n",
    "    bleu_score = calculate_bleu_score(actual, pred)\n",
    "    bleu_scores.append(bleu_score)\n",
    "    \n",
    "\n",
    "avg_exact_match = sum(exact_matches) / len(exact_matches)\n",
    "avg_levenshtein = sum(levenshtein_distances) / len(levenshtein_distances)\n",
    "avg_chrf = sum(chrf_scores) / len(chrf_scores)\n",
    "average_bleu = sum(bleu_scores) / len(bleu_scores)\n",
    "\n",
    "print(f\"Average BLEU Score: {average_bleu:.4f}\")\n",
    "print(f\"Exact Match: {avg_exact_match:.4f}\")\n",
    "print(f\"Avg Levenshtein Distance: {avg_levenshtein:.4f}\")\n",
    "print(f\"Avg CHRF: {avg_chrf:.4f}\")"
   ],
   "id": "d2908b0d7e5ce55c",
   "outputs": [
    {
     "name": "stdout",
     "output_type": "stream",
     "text": [
      "Average BLEU Score: 0.0242\n",
      "Exact Match: 0.0000\n",
      "Avg Levenshtein Distance: 866.5000\n",
      "Avg CHRF: 22.0180\n"
     ]
    }
   ],
   "execution_count": 1
  }
 ],
 "metadata": {
  "kernelspec": {
   "display_name": "Python 3",
   "language": "python",
   "name": "python3"
  },
  "language_info": {
   "codemirror_mode": {
    "name": "ipython",
    "version": 2
   },
   "file_extension": ".py",
   "mimetype": "text/x-python",
   "name": "python",
   "nbconvert_exporter": "python",
   "pygments_lexer": "ipython2",
   "version": "2.7.6"
  }
 },
 "nbformat": 4,
 "nbformat_minor": 5
}
